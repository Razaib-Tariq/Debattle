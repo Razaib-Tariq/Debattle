{
 "cells": [
  {
   "cell_type": "code",
   "execution_count": 4,
   "id": "1542d2bb",
   "metadata": {},
   "outputs": [],
   "source": [
    "import requests\n",
    "import nltk\n",
    "from bs4 import BeautifulSoup\n",
    "import numpy as np \n",
    "import pandas as pd \n",
    "import seaborn as sns\n",
    "import matplotlib.pyplot as plt\n",
    "%matplotlib inline\n",
    "import random\n",
    "import os\n",
    "import spacy\n",
    "#nlp = spacy.load('en_core_web_sm')"
   ]
  },
  {
   "cell_type": "code",
   "execution_count": 5,
   "id": "fb56de0d",
   "metadata": {},
   "outputs": [],
   "source": [
    "r=requests.get('https://www.newsy.com/stories/commercial-companies-advance-space-exploration/')"
   ]
  },
  {
   "cell_type": "code",
   "execution_count": 6,
   "id": "09fe9cf6",
   "metadata": {},
   "outputs": [],
   "source": [
    "r.encoding = 'utf-8'"
   ]
  },
  {
   "cell_type": "code",
   "execution_count": 7,
   "id": "001a992c",
   "metadata": {},
   "outputs": [],
   "source": [
    "html = r.text"
   ]
  },
  {
   "cell_type": "code",
   "execution_count": 8,
   "id": "a426c2e6",
   "metadata": {},
   "outputs": [
    {
     "name": "stdout",
     "output_type": "stream",
     "text": [
      "<!DOCTYPE html><html lang=\"en\"><head><!-- Google Analytics --><script>\r\n",
      "            (function(i,s,o,g,r,a,m){i['GoogleAnalyticsObject']=r;i[r]=i[r]||function(){\r\n",
      "            (i[r].q=i[r].q||[]).push(arguments)},i[r].l=1*new Date();a=s.createElement(o),\r\n",
      "            m=s.getElementsByTagName(o)[0];a.async=1;a.src=g;m.parentNode.insertBefore(a,m)\r\n",
      "            })(window,document,'script','https://www.google-analytics.com/analytics.js','ga');\r\n",
      "\r\n",
      "            ga('create', 'UA-5101570-1', 'auto');\r\n",
      "    \n"
     ]
    }
   ],
   "source": [
    "print(html[:500])"
   ]
  },
  {
   "cell_type": "code",
   "execution_count": 9,
   "id": "71d50c15",
   "metadata": {},
   "outputs": [],
   "source": [
    "soup = BeautifulSoup(html)"
   ]
  },
  {
   "cell_type": "code",
   "execution_count": 10,
   "id": "88177489",
   "metadata": {},
   "outputs": [],
   "source": [
    "text = soup.get_text()"
   ]
  },
  {
   "cell_type": "code",
   "execution_count": 11,
   "id": "e85e9fca",
   "metadata": {},
   "outputs": [
    {
     "data": {
      "text/plain": [
       "4217"
      ]
     },
     "execution_count": 11,
     "metadata": {},
     "output_type": "execute_result"
    }
   ],
   "source": [
    "len(text)"
   ]
  },
  {
   "cell_type": "code",
   "execution_count": 12,
   "id": "247f094e",
   "metadata": {},
   "outputs": [
    {
     "name": "stdout",
     "output_type": "stream",
     "text": [
      "thTechBusinessEntertainmentSportsinvestigationsdocumentariesshowsschedulewhere to watchHow Commercial Companies Are Advancing Space ExplorationShareTweetEmailSMSHow Commercial Companies Are Advancing Space ExplorationBy Clayton SandellBy Clayton SandellOctober 29, 2021October 29, 2021There's competition among roughly a dozen private companies to launch new space stations.As astronauts blast off to the International Space Station this weekend on a SpaceX rocket, the company is also showing off a massive ship it says will one day take travelers far, far away.Newly released video shows the 'Starship' lifting into an aerial ballet of flips and turns before landing again. SpaceX hopes the ship will reach orbit for the first time next month and maybe, one day, make founder Elon Musk's mission-to-Mars dreams a reality.\"He says, 'I want to die on Mars, just not on impact,'\" editor for Spaceref.com Keith Cowing said. \"I've known Elon forever, for like 20 years. I met him when he was actually a \n"
     ]
    }
   ],
   "source": [
    "print(text[100:1100])"
   ]
  },
  {
   "cell_type": "code",
   "execution_count": 48,
   "id": "cfe82b9f",
   "metadata": {},
   "outputs": [],
   "source": [
    "clean_text= text.replace(\"\\n\", \" \")\n",
    "clean_text= clean_text.replace(\"\\xa0\", \" \")\n",
    "clean_text= ''.join([c for c in clean_text if c != \"'\"])"
   ]
  },
  {
   "cell_type": "code",
   "execution_count": 49,
   "id": "36e0b58b",
   "metadata": {},
   "outputs": [
    {
     "data": {
      "text/plain": [
       "'Commercial Companies Advance Space Exploration (VIDEO)   newsynewsU.S. NewsWORLDPoliticsScience/HealthTechBusinessEntertainmentSportsinvestigationsdocumentariesshowsschedulewhere to watchHow Commercial Companies Are Advancing Space ExplorationShareTweetEmailSMSHow Commercial Companies Are Advancing Space ExplorationBy Clayton SandellBy Clayton SandellOctober 29, 2021October 29, 2021Theres competition among roughly a dozen private companies to launch new space stations.As astronauts blast off to the International Space Station this weekend on a SpaceX rocket, the company is also showing off a massive ship it says will one day take travelers far, far away.Newly released video shows the Starship lifting into an aerial ballet of flips and turns before landing again. SpaceX hopes the ship will reach orbit for the first time next month and maybe, one day, make founder Elon Musks mission-to-Mars dreams a reality.\"He says, I want to die on Mars, just not on impact,\" editor for Spaceref.com Keith Cowing said. \"Ive known Elon forever, for like 20 years. I met him when he was actually a kid and I was a lot younger with less gray hair. So, for him to do this doesnt surprise me. Hes always just been as awed by this stuff as anybody else, which I think is kind of important when youre trying to do audacious things.\"Hyping test footage on social media and even rocket blooper reels, like the one Musk once posted, is a part of the modern space race, which is a lot different from the way NASA used to do it.\"Well, you know, theres two different approaches here, and quite frankly, the SpaceX one is the one that produces cool videos that make you just want to watch it again and again. NASAs dont,\" Cowing said.Theres also competition among roughly a dozen private companies to launch new space stations, like the just-announced \"Orbital Reef\" from Sierra Space and Blue Origin, owned by Jeff Bezos.\"The current space station, I worked on it when I was kid, and its getting old and like anything, you got to replace it. And NASA is, sort of, not really wanting to go through that whole $100 billion thing again, but the need for something like that is there,\" Cowing said. \"So, just like theyve started to use commercial carriers for cargo to the space station and crew, theyre looking at hopefully spurring an industry where one or more private space stations are in space that can do the things that NASA wants but do it in a way that they can then do stuff that the private sector wants.\"Which is why space industry experts say, do not count NASA out.\"So now, here we are — the 21st century — do you need NASA? Yeah, you do,\" Cowing said. \"Because theres always a cutting-edge thing that the private sector is gonna say, I cant make money off of this. But NASA says, Well, maybe in 20 years, you will. Were going to invest dollars in this because it could be a breakthrough technology, or they just go and explore the solar system for the sheer benefit of science.\"Besides money, space enthusiasts say NASA — with its six-decade history –—still has a special ability to do something priceless: inspire a new generation of explorers.ShareTweetEmailSMSTRENDING IN U.S. NEWS4:41Gabrielle Lurie / APHow City Planning, Biking Helps Reduce Americas Emissions Problem1:10Cory Morse / The Grand Rapids Press via APAutopsy Shows Patrick Lyoya Shot In Head By Michigan CopSean Rayford / APSecond Arrest Made In South Carolina Mall Shooting3:41SNWASome Of Americas Largest And Most Important Rivers Are In Crisis0:25Christian Chavez / APMigrant Crossings Spike As U.S. Plans To Lift Curb On Asylum3:07Matt Rourke / APNew York Pledges To Stay Open, While Other States Remain Cautious4:05Hau Dinh / APFlorida Federal Judge Says Masks Cant Be Required On Planes2:13Gurdeep Pandher / YoutubeDancing For Joy Bhangra Style — One Day At A Time   newsyShowsDocumentariesTV ScheduleChannel FinderNewsletterContact UsCareersCompany NewsRSSSitemapPrivacy PolicyTerms of UseLicensingJournalism Ethics GuidelinesDo Not Sell My Personal InformationPrivacy CenterTechnology SettingsConnect With UsfacebooktwitteryoutubeinstagramlinkedincontactNewsy © 2022 Newsy is an E.W. Scripps Company Brand           '"
      ]
     },
     "execution_count": 49,
     "metadata": {},
     "output_type": "execute_result"
    }
   ],
   "source": [
    "clean_text"
   ]
  },
  {
   "cell_type": "code",
   "execution_count": 44,
   "id": "ab9e7852",
   "metadata": {},
   "outputs": [
    {
     "ename": "NameError",
     "evalue": "name 'nlp' is not defined",
     "output_type": "error",
     "traceback": [
      "\u001b[1;31m---------------------------------------------------------------------------\u001b[0m",
      "\u001b[1;31mNameError\u001b[0m                                 Traceback (most recent call last)",
      "\u001b[1;32m~\\AppData\\Local\\Temp/ipykernel_2868/2449081699.py\u001b[0m in \u001b[0;36m<module>\u001b[1;34m\u001b[0m\n\u001b[0;32m      1\u001b[0m \u001b[0msentence\u001b[0m\u001b[1;33m=\u001b[0m\u001b[1;33m[\u001b[0m\u001b[1;33m]\u001b[0m\u001b[1;33m\u001b[0m\u001b[1;33m\u001b[0m\u001b[0m\n\u001b[1;32m----> 2\u001b[1;33m \u001b[0mtokens\u001b[0m \u001b[1;33m=\u001b[0m \u001b[0mnlp\u001b[0m\u001b[1;33m(\u001b[0m\u001b[0mclean_text\u001b[0m\u001b[1;33m)\u001b[0m\u001b[1;33m\u001b[0m\u001b[1;33m\u001b[0m\u001b[0m\n\u001b[0m\u001b[0;32m      3\u001b[0m \u001b[1;32mfor\u001b[0m \u001b[0msent\u001b[0m \u001b[1;32min\u001b[0m \u001b[0mtokens\u001b[0m\u001b[1;33m.\u001b[0m\u001b[0msents\u001b[0m\u001b[1;33m:\u001b[0m\u001b[1;33m\u001b[0m\u001b[1;33m\u001b[0m\u001b[0m\n\u001b[0;32m      4\u001b[0m     \u001b[0msentence\u001b[0m\u001b[1;33m.\u001b[0m\u001b[0mappend\u001b[0m\u001b[1;33m(\u001b[0m\u001b[1;33m(\u001b[0m\u001b[0msent\u001b[0m\u001b[1;33m.\u001b[0m\u001b[0mtext\u001b[0m\u001b[1;33m.\u001b[0m\u001b[0mstrip\u001b[0m\u001b[1;33m(\u001b[0m\u001b[1;33m)\u001b[0m\u001b[1;33m)\u001b[0m\u001b[1;33m)\u001b[0m\u001b[1;33m\u001b[0m\u001b[1;33m\u001b[0m\u001b[0m\n",
      "\u001b[1;31mNameError\u001b[0m: name 'nlp' is not defined"
     ]
    }
   ],
   "source": [
    "sentence=[]\n",
    "tokens = nlp(clean_text)\n",
    "for sent in tokens.sents:\n",
    "    sentence.append((sent.text.strip()))"
   ]
  },
  {
   "cell_type": "code",
   "execution_count": null,
   "id": "6f52be47",
   "metadata": {},
   "outputs": [],
   "source": [
    "sentence"
   ]
  },
  {
   "cell_type": "code",
   "execution_count": null,
   "id": "5f7369db",
   "metadata": {},
   "outputs": [],
   "source": []
  }
 ],
 "metadata": {
  "kernelspec": {
   "display_name": "Python 3 (ipykernel)",
   "language": "python",
   "name": "python3"
  },
  "language_info": {
   "codemirror_mode": {
    "name": "ipython",
    "version": 3
   },
   "file_extension": ".py",
   "mimetype": "text/x-python",
   "name": "python",
   "nbconvert_exporter": "python",
   "pygments_lexer": "ipython3",
   "version": "3.9.7"
  }
 },
 "nbformat": 4,
 "nbformat_minor": 5
}
