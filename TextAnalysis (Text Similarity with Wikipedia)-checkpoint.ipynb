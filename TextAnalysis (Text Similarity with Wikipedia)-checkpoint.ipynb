{
 "cells": [
  {
   "cell_type": "code",
   "execution_count": null,
   "id": "9c772d1e",
   "metadata": {
    "scrolled": true
   },
   "outputs": [],
   "source": [
    "#pip install sentence_transformers\n",
    "\n",
    "#importing libraries\n",
    "from sentence_transformers import SentenceTransformer, util\n",
    "model = SentenceTransformer('stsb-roberta-large')\n",
    "import wikipedia\n",
    "title=input(\"Input Title of Topic: \")\n",
    "sentence1 = input(\"Please Input Paragraph to compare with wikipedia: \")\n",
    "try:\n",
    "  sentence2 = wikipedia.summary(title=title)\n",
    "# encode sentences to get their embeddings\n",
    "  embedding1 = model.encode(sentence1, convert_to_tensor=True)\n",
    "  embedding2 = model.encode(sentence2, convert_to_tensor=True)\n",
    "# compute similarity scores of two embeddings\n",
    "  cosine_scores = util.pytorch_cos_sim(embedding1, embedding2)\n",
    "  print(\"Sentence 1:\", sentence1)\n",
    "  print(\"Sentence 2:\", sentence2)\n",
    "  print(\"Similarity score:\", cosine_scores.item())\n",
    "  import math\n",
    "  print(\"Percentage,\", str(math.floor(cosine_scores.item()*100))+\"%\")\n",
    "  print(cosine_scores)\n",
    "except:\n",
    "  print(\"Sorry Related Topic Not available at wikipedia\")"
   ]
  },
  {
   "cell_type": "code",
   "execution_count": 1,
   "id": "5ca5498a",
   "metadata": {},
   "outputs": [],
   "source": [
    "from sentence_transformers import SentenceTransformer, util\n",
    "model = SentenceTransformer('stsb-roberta-large')"
   ]
  },
  {
   "cell_type": "code",
   "execution_count": null,
   "id": "0c4fc008",
   "metadata": {},
   "outputs": [],
   "source": [
    "def read_file(htmldata):\n",
    "          \n",
    "    try:\n",
    "        with open(htmldata, 'r',encoding='utf-8') as f:\n",
    "            data = f.read()\n",
    "        return data\n",
    "      \n",
    "    except IOError:\n",
    "        print(\"Error opening or reading input file: \", htmldata)\n",
    "        sys.exit()"
   ]
  }
 ],
 "metadata": {
  "kernelspec": {
   "display_name": "Python 3 (ipykernel)",
   "language": "python",
   "name": "python3"
  },
  "language_info": {
   "codemirror_mode": {
    "name": "ipython",
    "version": 3
   },
   "file_extension": ".py",
   "mimetype": "text/x-python",
   "name": "python",
   "nbconvert_exporter": "python",
   "pygments_lexer": "ipython3",
   "version": "3.9.7"
  }
 },
 "nbformat": 4,
 "nbformat_minor": 5
}
