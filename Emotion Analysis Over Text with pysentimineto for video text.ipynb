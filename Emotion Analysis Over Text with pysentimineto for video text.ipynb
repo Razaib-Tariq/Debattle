{
 "cells": [
  {
   "cell_type": "code",
   "execution_count": null,
   "id": "597f8374",
   "metadata": {},
   "outputs": [],
   "source": [
    "from pysentimiento import create_analyzer"
   ]
  },
  {
   "cell_type": "code",
   "execution_count": 1,
   "id": "138f1742",
   "metadata": {},
   "outputs": [
    {
     "data": {
      "text/plain": [
       "AnalyzerOutput(output=joy, probas={joy: 0.901, others: 0.081, surprise: 0.008, anger: 0.006, disgust: 0.001, sadness: 0.001, fear: 0.001})"
      ]
     },
     "execution_count": 1,
     "metadata": {},
     "output_type": "execute_result"
    }
   ],
   "source": [
    "from pysentimiento import create_analyzer \n",
    "analyzer = create_analyzer(task=\"emotion\", lang=\"en\")\n",
    "analyzer.predict(\"yaay\")\n"
   ]
  },
  {
   "cell_type": "code",
   "execution_count": null,
   "id": "13bd24fe",
   "metadata": {},
   "outputs": [],
   "source": []
  },
  {
   "cell_type": "code",
   "execution_count": null,
   "id": "ecbc9834",
   "metadata": {},
   "outputs": [],
   "source": []
  }
 ],
 "metadata": {
  "kernelspec": {
   "display_name": "Python 3 (ipykernel)",
   "language": "python",
   "name": "python3"
  },
  "language_info": {
   "codemirror_mode": {
    "name": "ipython",
    "version": 3
   },
   "file_extension": ".py",
   "mimetype": "text/x-python",
   "name": "python",
   "nbconvert_exporter": "python",
   "pygments_lexer": "ipython3",
   "version": "3.9.7"
  }
 },
 "nbformat": 4,
 "nbformat_minor": 5
}
