{
 "cells": [
  {
   "cell_type": "code",
   "execution_count": 1,
   "id": "9c772d1e",
   "metadata": {
    "scrolled": true
   },
   "outputs": [
    {
     "name": "stdout",
     "output_type": "stream",
     "text": [
      "Input Title of Topic: what is machine learning?\n",
      "Please Input Paragraph to compare with wikipedia: Machine learning is the study of computer algorithms that can improve automatically through experience and by the use of data. It is seen as a part of artificial intelligence.\n",
      "Sentence 1: Machine learning is the study of computer algorithms that can improve automatically through experience and by the use of data. It is seen as a part of artificial intelligence.\n",
      "Sentence 2: Machine learning (ML) is the study of computer algorithms that can improve automatically through experience and by the use of data. It is seen as a part of artificial intelligence. Machine learning algorithms build a model based on sample data, known as training data, in order to make predictions or decisions without being explicitly programmed to do so. Machine learning algorithms are used in a wide variety of applications, such as in medicine, email filtering, speech recognition, and computer vision, where it is difficult or unfeasible to develop conventional algorithms to perform the needed tasks.A subset of machine learning is closely related to computational statistics, which focuses on making predictions using computers; but not all machine learning is statistical learning. The study of mathematical optimization delivers methods, theory and application domains to the field of machine learning. Data mining is a related field of study, focusing on exploratory data analysis through unsupervised learning. Some implementations of machine learning use data and neural networks in a way that mimics the working of a biological brain.  In its application across business problems, machine learning is also referred to as predictive analytics.\n",
      "Similarity score: 0.8215820789337158\n",
      "Percentage, 82%\n",
      "tensor([[0.8216]])\n"
     ]
    }
   ],
   "source": [
    "#pip install sentence_transformers\n",
    "\n",
    "#importing libraries\n",
    "from sentence_transformers import SentenceTransformer, util\n",
    "model = SentenceTransformer('stsb-roberta-large')\n",
    "import wikipedia\n",
    "title=input(\"Input Title of Topic: \")\n",
    "sentence1 = input(\"Please Input Paragraph to compare with wikipedia: \")\n",
    "try:\n",
    "  sentence2 = wikipedia.summary(title=title)\n",
    "# encode sentences to get their embeddings\n",
    "  embedding1 = model.encode(sentence1, convert_to_tensor=True)\n",
    "  embedding2 = model.encode(sentence2, convert_to_tensor=True)\n",
    "# compute similarity scores of two embeddings\n",
    "  cosine_scores = util.pytorch_cos_sim(embedding1, embedding2)\n",
    "  print(\"Sentence 1:\", sentence1)\n",
    "  print(\"Sentence 2:\", sentence2)\n",
    "  print(\"Similarity score:\", cosine_scores.item())\n",
    "  import math\n",
    "  print(\"Percentage,\", str(math.floor(cosine_scores.item()*100))+\"%\")\n",
    "  print(cosine_scores)\n",
    "except:\n",
    "  print(\"Sorry Related Topic Not available at wikipedia\")"
   ]
  },
  {
   "cell_type": "code",
   "execution_count": null,
   "id": "5ca5498a",
   "metadata": {},
   "outputs": [],
   "source": []
  }
 ],
 "metadata": {
  "kernelspec": {
   "display_name": "Python 3",
   "language": "python",
   "name": "python3"
  },
  "language_info": {
   "codemirror_mode": {
    "name": "ipython",
    "version": 3
   },
   "file_extension": ".py",
   "mimetype": "text/x-python",
   "name": "python",
   "nbconvert_exporter": "python",
   "pygments_lexer": "ipython3",
   "version": "3.8.8"
  }
 },
 "nbformat": 4,
 "nbformat_minor": 5
}
