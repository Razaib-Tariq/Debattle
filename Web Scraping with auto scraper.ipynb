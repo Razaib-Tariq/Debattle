{
 "cells": [
  {
   "cell_type": "code",
   "execution_count": 85,
   "id": "b5719515",
   "metadata": {},
   "outputs": [],
   "source": [
    "from autoscraper import AutoScraper"
   ]
  },
  {
   "cell_type": "code",
   "execution_count": 129,
   "id": "0be96728",
   "metadata": {},
   "outputs": [],
   "source": [
    "url = \"https://en.wikipedia.org/wiki/Machine_learning\"\n",
    "wanted_list = [\"Machine learning\",\"From Wikipedia\"]"
   ]
  },
  {
   "cell_type": "code",
   "execution_count": 130,
   "id": "efff3e5c",
   "metadata": {},
   "outputs": [
    {
     "name": "stdout",
     "output_type": "stream",
     "text": [
      "['Machine learning', 'General', 'Concepts', 'Programming languages', 'Application', 'Hardware', 'Software library', 'Implementation', 'People', 'Organizations', 'Computer systems organization', 'Networks', 'Software organization', 'Software notations and tools', 'Software development', 'Theory of computation', 'Algorithms', 'Mathematics of computing', 'Information systems', 'Security', 'Human–computer interaction', 'Concurrency', 'Artificial intelligence', 'Graphics', 'Applied computing', 'Authority control: National libraries', 'Technology', 'Differentiable programming', 'Gradient descent\\nSGD', 'Python', 'IPU', 'TensorFlow', 'Alex Graves', 'DeepMind', 'Printed circuit board', 'Computer architecture', 'Network architecture', 'Interpreter', 'Programming paradigm', 'Control variable', 'Model of computation', 'Algorithm design', 'Discrete mathematics', 'Database management system', 'Cryptography', 'Interaction design', 'Concurrent computing', 'Natural language processing', 'Supervised learning', 'Animation', 'E-commerce', 'Germany', 'Embedded Machine Learning', 'AutoML', 'Artificial neural networks', 'DBSCAN', 'PCA', 'Graphical models\\nBayes net\\nConditional random field\\nHidden Markov', 'Local outlier factor', 'RNN\\nLSTM\\nGRU\\nESN', 'Multi-agent', 'PAC learning', 'ArXiv:cs.LG', 'Outline of machine learning', 'Evolutionary algorithms', 'Turing test', 'AI winter', 'Glossary']\n"
     ]
    }
   ],
   "source": [
    "scraper = AutoScraper()\n",
    "result = scraper.build(url, wanted_list)\n",
    "print(result)"
   ]
  },
  {
   "cell_type": "code",
   "execution_count": null,
   "id": "afabe9e9",
   "metadata": {},
   "outputs": [],
   "source": []
  }
 ],
 "metadata": {
  "kernelspec": {
   "display_name": "Python 3",
   "language": "python",
   "name": "python3"
  },
  "language_info": {
   "codemirror_mode": {
    "name": "ipython",
    "version": 3
   },
   "file_extension": ".py",
   "mimetype": "text/x-python",
   "name": "python",
   "nbconvert_exporter": "python",
   "pygments_lexer": "ipython3",
   "version": "3.8.8"
  }
 },
 "nbformat": 4,
 "nbformat_minor": 5
}
